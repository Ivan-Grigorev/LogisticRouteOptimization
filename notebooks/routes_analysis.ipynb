{
 "cells": [
  {
   "cell_type": "markdown",
   "id": "a87f694c-b4eb-401a-9b09-144104d84b3d",
   "metadata": {},
   "source": [
    "# Logistic Route Optimization - Illinois Idition"
   ]
  },
  {
   "cell_type": "markdown",
   "id": "cddddb05-c34a-4b88-8417-252165f77ab9",
   "metadata": {},
   "source": [
    "## Project Scope\n",
    "This notebook performs intercity delivery route optimization across key cities in the state of Illinois, with a central logistics hub in Chicago. It uses OpenStreetMap road network data to build a realistic driving graph and applies advanced algorithms to compute optimal delivery routes."
   ]
  },
  {
   "cell_type": "markdown",
   "id": "8e596b5e-eeb2-4f2f-ba6f-e5fd70d36550",
   "metadata": {},
   "source": [
    "### Goals\n",
    "- Map delivery cities to the road network<br>\n",
    "- Calculate travel distances between cities<br>\n",
    "- Solve for the most efficient route using Google's OR-Tools<br>\n",
    "- Visualize results using interactive maps<br>"
   ]
  },
  {
   "cell_type": "markdown",
   "id": "edc78e84-bb1b-4afb-8137-fc5cd5ad89e9",
   "metadata": {},
   "source": [
    "### Load the Dataset and Display Cities"
   ]
  },
  {
   "cell_type": "markdown",
   "id": "0b95d3b5-f0f9-49e4-8420-85b83f123335",
   "metadata": {},
   "source": [
    "Load Illinois cities dataset from CSV. If not found, generate it using the script."
   ]
  },
  {
   "cell_type": "code",
   "execution_count": 6,
   "id": "bcc333f7-82c3-45d5-ae2b-fc4bec26bebe",
   "metadata": {},
   "outputs": [],
   "source": [
    "import os\n",
    "import sys\n",
    "\n",
    "# Add 'src' to sys.path if it's not already there\n",
    "src_path = os.path.abspath('../src/')\n",
    "if src_path not in sys.path:\n",
    "    sys.path.append(src_path)"
   ]
  },
  {
   "cell_type": "code",
   "execution_count": 7,
   "id": "c71663e6-9af3-48dd-8ff0-669299e49ef0",
   "metadata": {},
   "outputs": [
    {
     "data": {
      "text/html": [
       "<div>\n",
       "<style scoped>\n",
       "    .dataframe tbody tr th:only-of-type {\n",
       "        vertical-align: middle;\n",
       "    }\n",
       "\n",
       "    .dataframe tbody tr th {\n",
       "        vertical-align: top;\n",
       "    }\n",
       "\n",
       "    .dataframe thead th {\n",
       "        text-align: right;\n",
       "    }\n",
       "</style>\n",
       "<table border=\"1\" class=\"dataframe\">\n",
       "  <thead>\n",
       "    <tr style=\"text-align: right;\">\n",
       "      <th></th>\n",
       "      <th>city</th>\n",
       "      <th>lat</th>\n",
       "      <th>lon</th>\n",
       "    </tr>\n",
       "  </thead>\n",
       "  <tbody>\n",
       "    <tr>\n",
       "      <th>0</th>\n",
       "      <td>Chicago</td>\n",
       "      <td>41.8781</td>\n",
       "      <td>-87.6298</td>\n",
       "    </tr>\n",
       "    <tr>\n",
       "      <th>1</th>\n",
       "      <td>Aurora</td>\n",
       "      <td>41.7606</td>\n",
       "      <td>-88.3201</td>\n",
       "    </tr>\n",
       "    <tr>\n",
       "      <th>2</th>\n",
       "      <td>Rockford</td>\n",
       "      <td>42.2711</td>\n",
       "      <td>-89.0937</td>\n",
       "    </tr>\n",
       "    <tr>\n",
       "      <th>3</th>\n",
       "      <td>Naperville</td>\n",
       "      <td>41.7508</td>\n",
       "      <td>-88.1535</td>\n",
       "    </tr>\n",
       "    <tr>\n",
       "      <th>4</th>\n",
       "      <td>Joliet</td>\n",
       "      <td>41.5250</td>\n",
       "      <td>-88.0817</td>\n",
       "    </tr>\n",
       "    <tr>\n",
       "      <th>5</th>\n",
       "      <td>Springfield</td>\n",
       "      <td>39.7817</td>\n",
       "      <td>-89.6501</td>\n",
       "    </tr>\n",
       "    <tr>\n",
       "      <th>6</th>\n",
       "      <td>Peoria</td>\n",
       "      <td>40.6936</td>\n",
       "      <td>-89.5889</td>\n",
       "    </tr>\n",
       "    <tr>\n",
       "      <th>7</th>\n",
       "      <td>Champaign</td>\n",
       "      <td>40.1164</td>\n",
       "      <td>-88.2434</td>\n",
       "    </tr>\n",
       "  </tbody>\n",
       "</table>\n",
       "</div>"
      ],
      "text/plain": [
       "          city      lat      lon\n",
       "0      Chicago  41.8781 -87.6298\n",
       "1       Aurora  41.7606 -88.3201\n",
       "2     Rockford  42.2711 -89.0937\n",
       "3   Naperville  41.7508 -88.1535\n",
       "4       Joliet  41.5250 -88.0817\n",
       "5  Springfield  39.7817 -89.6501\n",
       "6       Peoria  40.6936 -89.5889\n",
       "7    Champaign  40.1164 -88.2434"
      ]
     },
     "execution_count": 7,
     "metadata": {},
     "output_type": "execute_result"
    }
   ],
   "source": [
    "import pandas as pd\n",
    "\n",
    "csv_path = '../data/illinois_cities.csv'\n",
    "\n",
    "try:\n",
    "    df_cities = pd.read_csv(csv_path)\n",
    "except FileNotFoundError:\n",
    "    # Import the function\n",
    "    from cities_dataset_generator import generate_illinois_cities_dataset\n",
    "\n",
    "    # Generate the dataset\n",
    "    generate_illinois_cities_dataset(csv_path)\n",
    "\n",
    "    # Read it after creation\n",
    "    df_cities = pd.read_csv(csv_path)\n",
    "\n",
    "df_cities"
   ]
  },
  {
   "cell_type": "markdown",
   "id": "85a4a2c4-545e-448b-9f75-7a0383748f20",
   "metadata": {},
   "source": [
    "### Generate and Save Road Network"
   ]
  },
  {
   "cell_type": "markdown",
   "id": "6baffa66-dd0f-4545-a060-51ca3b59ba7b",
   "metadata": {},
   "source": [
    "Download Illinois driving network with `osmnx`. If not found, generate it using the script."
   ]
  },
  {
   "cell_type": "code",
   "execution_count": 10,
   "id": "18a012ed-863b-42bd-bb51-25ff20abba26",
   "metadata": {},
   "outputs": [],
   "source": [
    "import osmnx as ox\n",
    "\n",
    "graph_path = '../data/illinois_graph.graphml'\n",
    "\n",
    "try:\n",
    "    G = ox.load_graphml(graph_path)\n",
    "except FileNotFoundError:\n",
    "    # Import the function\n",
    "    from graphml_generator import generate_graphml\n",
    "\n",
    "    # Genrate the graph\n",
    "    generate_graphml(df_path='../data/illinois_cities.csv', file_path=graph_path)\n",
    "\n",
    "    # Load after creation\n",
    "    G = ox.load_graphml(graph_path)"
   ]
  },
  {
   "cell_type": "markdown",
   "id": "0e26f723-b386-42a8-b5a2-f94306c9889f",
   "metadata": {},
   "source": [
    "### Match Cities to Nearest Road Nodes"
   ]
  },
  {
   "cell_type": "code",
   "execution_count": 12,
   "id": "b928200e-f904-4d1b-9d4a-3e91cfee2c35",
   "metadata": {},
   "outputs": [
    {
     "data": {
      "text/html": [
       "<div>\n",
       "<style scoped>\n",
       "    .dataframe tbody tr th:only-of-type {\n",
       "        vertical-align: middle;\n",
       "    }\n",
       "\n",
       "    .dataframe tbody tr th {\n",
       "        vertical-align: top;\n",
       "    }\n",
       "\n",
       "    .dataframe thead th {\n",
       "        text-align: right;\n",
       "    }\n",
       "</style>\n",
       "<table border=\"1\" class=\"dataframe\">\n",
       "  <thead>\n",
       "    <tr style=\"text-align: right;\">\n",
       "      <th></th>\n",
       "      <th>city</th>\n",
       "      <th>lat</th>\n",
       "      <th>lon</th>\n",
       "      <th>node_id</th>\n",
       "    </tr>\n",
       "  </thead>\n",
       "  <tbody>\n",
       "    <tr>\n",
       "      <th>0</th>\n",
       "      <td>Chicago</td>\n",
       "      <td>41.8781</td>\n",
       "      <td>-87.6298</td>\n",
       "      <td>261154311</td>\n",
       "    </tr>\n",
       "    <tr>\n",
       "      <th>1</th>\n",
       "      <td>Aurora</td>\n",
       "      <td>41.7606</td>\n",
       "      <td>-88.3201</td>\n",
       "      <td>235209482</td>\n",
       "    </tr>\n",
       "    <tr>\n",
       "      <th>2</th>\n",
       "      <td>Rockford</td>\n",
       "      <td>42.2711</td>\n",
       "      <td>-89.0937</td>\n",
       "      <td>237540096</td>\n",
       "    </tr>\n",
       "    <tr>\n",
       "      <th>3</th>\n",
       "      <td>Naperville</td>\n",
       "      <td>41.7508</td>\n",
       "      <td>-88.1535</td>\n",
       "      <td>237638509</td>\n",
       "    </tr>\n",
       "    <tr>\n",
       "      <th>4</th>\n",
       "      <td>Joliet</td>\n",
       "      <td>41.5250</td>\n",
       "      <td>-88.0817</td>\n",
       "      <td>237451309</td>\n",
       "    </tr>\n",
       "    <tr>\n",
       "      <th>5</th>\n",
       "      <td>Springfield</td>\n",
       "      <td>39.7817</td>\n",
       "      <td>-89.6501</td>\n",
       "      <td>1374889316</td>\n",
       "    </tr>\n",
       "    <tr>\n",
       "      <th>6</th>\n",
       "      <td>Peoria</td>\n",
       "      <td>40.6936</td>\n",
       "      <td>-89.5889</td>\n",
       "      <td>236827183</td>\n",
       "    </tr>\n",
       "    <tr>\n",
       "      <th>7</th>\n",
       "      <td>Champaign</td>\n",
       "      <td>40.1164</td>\n",
       "      <td>-88.2434</td>\n",
       "      <td>38035941</td>\n",
       "    </tr>\n",
       "  </tbody>\n",
       "</table>\n",
       "</div>"
      ],
      "text/plain": [
       "          city      lat      lon     node_id\n",
       "0      Chicago  41.8781 -87.6298   261154311\n",
       "1       Aurora  41.7606 -88.3201   235209482\n",
       "2     Rockford  42.2711 -89.0937   237540096\n",
       "3   Naperville  41.7508 -88.1535   237638509\n",
       "4       Joliet  41.5250 -88.0817   237451309\n",
       "5  Springfield  39.7817 -89.6501  1374889316\n",
       "6       Peoria  40.6936 -89.5889   236827183\n",
       "7    Champaign  40.1164 -88.2434    38035941"
      ]
     },
     "execution_count": 12,
     "metadata": {},
     "output_type": "execute_result"
    }
   ],
   "source": [
    "# Extract lat/lon from the dataframe\n",
    "city_coords = list(zip(df_cities['lat'], df_cities['lon']))\n",
    "\n",
    "# Get the nearest graph node for each city\n",
    "city_node_ids = []\n",
    "for lat, lon in city_coords:\n",
    "    node = ox.distance.nearest_nodes(G, X=lon, Y=lat)\n",
    "    city_node_ids.append(node)\n",
    "\n",
    "df_cities['node_id'] = city_node_ids\n",
    "df_cities"
   ]
  },
  {
   "cell_type": "markdown",
   "id": "7c36c65a-e685-4f46-b433-f9f6eba2dea1",
   "metadata": {},
   "source": [
    "### Compute the Road Distance Matrix Between Cities in Miles"
   ]
  },
  {
   "cell_type": "markdown",
   "id": "48e7c6be-71e8-4afd-a3dc-ed019fa64e53",
   "metadata": {},
   "source": [
    "By default, `OSMnx` and `NetworkX` use meters for edge lengths (`length` attribute), as OpenStreetMap stores distances in meters globally.\n",
    "Since this project focuses on the United States, it's more appropriate to convert distances to miles, which is the standard unit in U.S. logistics."
   ]
  },
  {
   "cell_type": "code",
   "execution_count": 15,
   "id": "2e26e87b-f1fd-42b1-b2a2-0e26206fda34",
   "metadata": {},
   "outputs": [
    {
     "data": {
      "text/html": [
       "<div>\n",
       "<style scoped>\n",
       "    .dataframe tbody tr th:only-of-type {\n",
       "        vertical-align: middle;\n",
       "    }\n",
       "\n",
       "    .dataframe tbody tr th {\n",
       "        vertical-align: top;\n",
       "    }\n",
       "\n",
       "    .dataframe thead th {\n",
       "        text-align: right;\n",
       "    }\n",
       "</style>\n",
       "<table border=\"1\" class=\"dataframe\">\n",
       "  <thead>\n",
       "    <tr style=\"text-align: right;\">\n",
       "      <th></th>\n",
       "      <th>Chicago</th>\n",
       "      <th>Aurora</th>\n",
       "      <th>Rockford</th>\n",
       "      <th>Naperville</th>\n",
       "      <th>Joliet</th>\n",
       "      <th>Springfield</th>\n",
       "      <th>Peoria</th>\n",
       "      <th>Champaign</th>\n",
       "    </tr>\n",
       "  </thead>\n",
       "  <tbody>\n",
       "    <tr>\n",
       "      <th>Chicago</th>\n",
       "      <td>0.00</td>\n",
       "      <td>38.09</td>\n",
       "      <td>83.26</td>\n",
       "      <td>30.22</td>\n",
       "      <td>37.30</td>\n",
       "      <td>191.48</td>\n",
       "      <td>147.64</td>\n",
       "      <td>131.12</td>\n",
       "    </tr>\n",
       "    <tr>\n",
       "      <th>Aurora</th>\n",
       "      <td>38.15</td>\n",
       "      <td>0.00</td>\n",
       "      <td>60.75</td>\n",
       "      <td>9.84</td>\n",
       "      <td>22.38</td>\n",
       "      <td>166.01</td>\n",
       "      <td>112.41</td>\n",
       "      <td>120.51</td>\n",
       "    </tr>\n",
       "    <tr>\n",
       "      <th>Rockford</th>\n",
       "      <td>83.57</td>\n",
       "      <td>60.77</td>\n",
       "      <td>0.00</td>\n",
       "      <td>67.61</td>\n",
       "      <td>83.06</td>\n",
       "      <td>190.50</td>\n",
       "      <td>123.78</td>\n",
       "      <td>176.32</td>\n",
       "    </tr>\n",
       "    <tr>\n",
       "      <th>Naperville</th>\n",
       "      <td>30.27</td>\n",
       "      <td>9.76</td>\n",
       "      <td>67.55</td>\n",
       "      <td>0.00</td>\n",
       "      <td>18.30</td>\n",
       "      <td>168.21</td>\n",
       "      <td>118.05</td>\n",
       "      <td>117.81</td>\n",
       "    </tr>\n",
       "    <tr>\n",
       "      <th>Joliet</th>\n",
       "      <td>37.34</td>\n",
       "      <td>22.46</td>\n",
       "      <td>82.88</td>\n",
       "      <td>18.30</td>\n",
       "      <td>0.00</td>\n",
       "      <td>154.41</td>\n",
       "      <td>112.95</td>\n",
       "      <td>103.76</td>\n",
       "    </tr>\n",
       "    <tr>\n",
       "      <th>Springfield</th>\n",
       "      <td>191.20</td>\n",
       "      <td>165.71</td>\n",
       "      <td>190.77</td>\n",
       "      <td>168.06</td>\n",
       "      <td>154.02</td>\n",
       "      <td>0.00</td>\n",
       "      <td>69.01</td>\n",
       "      <td>84.95</td>\n",
       "    </tr>\n",
       "    <tr>\n",
       "      <th>Peoria</th>\n",
       "      <td>147.86</td>\n",
       "      <td>112.59</td>\n",
       "      <td>123.88</td>\n",
       "      <td>118.48</td>\n",
       "      <td>113.04</td>\n",
       "      <td>68.86</td>\n",
       "      <td>0.00</td>\n",
       "      <td>87.83</td>\n",
       "    </tr>\n",
       "    <tr>\n",
       "      <th>Champaign</th>\n",
       "      <td>131.60</td>\n",
       "      <td>120.44</td>\n",
       "      <td>176.24</td>\n",
       "      <td>117.96</td>\n",
       "      <td>103.47</td>\n",
       "      <td>85.12</td>\n",
       "      <td>87.75</td>\n",
       "      <td>0.00</td>\n",
       "    </tr>\n",
       "  </tbody>\n",
       "</table>\n",
       "</div>"
      ],
      "text/plain": [
       "             Chicago  Aurora  Rockford  Naperville  Joliet  Springfield  \\\n",
       "Chicago         0.00   38.09     83.26       30.22   37.30       191.48   \n",
       "Aurora         38.15    0.00     60.75        9.84   22.38       166.01   \n",
       "Rockford       83.57   60.77      0.00       67.61   83.06       190.50   \n",
       "Naperville     30.27    9.76     67.55        0.00   18.30       168.21   \n",
       "Joliet         37.34   22.46     82.88       18.30    0.00       154.41   \n",
       "Springfield   191.20  165.71    190.77      168.06  154.02         0.00   \n",
       "Peoria        147.86  112.59    123.88      118.48  113.04        68.86   \n",
       "Champaign     131.60  120.44    176.24      117.96  103.47        85.12   \n",
       "\n",
       "             Peoria  Champaign  \n",
       "Chicago      147.64     131.12  \n",
       "Aurora       112.41     120.51  \n",
       "Rockford     123.78     176.32  \n",
       "Naperville   118.05     117.81  \n",
       "Joliet       112.95     103.76  \n",
       "Springfield   69.01      84.95  \n",
       "Peoria         0.00      87.83  \n",
       "Champaign     87.75       0.00  "
      ]
     },
     "execution_count": 15,
     "metadata": {},
     "output_type": "execute_result"
    }
   ],
   "source": [
    "import networkx as nx\n",
    "\n",
    "# Prepare distance matrix\n",
    "cities = df_cities['city'].tolist()\n",
    "node_ids = df_cities['node_id'].tolist()\n",
    "\n",
    "# Initialize empty DataFrame\n",
    "distance_matrix = pd.DataFrame(index=cities, columns=cities, dtype=float)\n",
    "\n",
    "# Compute distances\n",
    "for i, (city_a, node_a) in enumerate(zip(cities, node_ids)):\n",
    "    for j, (city_b, node_b) in enumerate(zip(cities, node_ids)):\n",
    "        if city_a == city_b:\n",
    "            distance_matrix.loc[city_a, city_b] = 0.0\n",
    "        else:\n",
    "            try:\n",
    "                length = nx.shortest_path_length(G, node_a, node_b, weight='length')\n",
    "                distance_matrix.loc[city_a, city_b] = round(length / 1609.34, 2)  # convert to miles\n",
    "            except nx.NetworkXNoPath:\n",
    "                distance_matrix.loc[city_a, city_b] = float('inf')  # No route\n",
    "\n",
    "distance_matrix"
   ]
  },
  {
   "cell_type": "markdown",
   "id": "9fc68c06-bc07-4e31-904c-30e6fc13a73d",
   "metadata": {},
   "source": [
    "Save the matrix"
   ]
  },
  {
   "cell_type": "code",
   "execution_count": 17,
   "id": "d93a7943-3f05-454d-a677-d9f998cdd1df",
   "metadata": {},
   "outputs": [],
   "source": [
    "distance_matrix.to_csv('../data/distance_matrix.csv')"
   ]
  },
  {
   "cell_type": "markdown",
   "id": "38e1a04e-f9f5-4da4-b357-18bae9df43f7",
   "metadata": {},
   "source": [
    "### Optimize Delivery Route (TSP with OR-Tools)"
   ]
  },
  {
   "cell_type": "markdown",
   "id": "bf36e23b-498e-4bd4-8122-1d09f4efaf89",
   "metadata": {},
   "source": [
    "We use Google's OR-Tools to compute the shortest route that visits all cities exactly once and returns to the start."
   ]
  },
  {
   "cell_type": "code",
   "execution_count": 20,
   "id": "ca612b28-a8e5-4d2d-b107-cb2aacc84833",
   "metadata": {},
   "outputs": [
    {
     "name": "stdout",
     "output_type": "stream",
     "text": [
      "Optimal route:\n",
      "Chicago -> Naperville -> Aurora -> Rockford -> Peoria -> Springfield -> Champaign -> Joliet -> Chicago\n",
      "Total distance: 519.13 miles\n"
     ]
    }
   ],
   "source": [
    "import json\n",
    "\n",
    "result_path = '../data/tsp_result.json'\n",
    "\n",
    "try:\n",
    "    with open(result_path, 'r') as f:\n",
    "        tsp_result = json.load(f)\n",
    "except FileNotFoundError:\n",
    "    %run ../src/tsp_solver.py\n",
    "    with open(result_path, 'r') as f:\n",
    "        tsp_result = json.load(f)\n",
    "\n",
    "print('Optimal route:')\n",
    "print(' -> '.join(tsp_result['route']))\n",
    "print(f\"Total distance: {tsp_result['total_distance']} miles\")"
   ]
  }
 ],
 "metadata": {
  "kernelspec": {
   "display_name": "Python [conda env:base] *",
   "language": "python",
   "name": "conda-base-py"
  },
  "language_info": {
   "codemirror_mode": {
    "name": "ipython",
    "version": 3
   },
   "file_extension": ".py",
   "mimetype": "text/x-python",
   "name": "python",
   "nbconvert_exporter": "python",
   "pygments_lexer": "ipython3",
   "version": "3.12.2"
  }
 },
 "nbformat": 4,
 "nbformat_minor": 5
}
