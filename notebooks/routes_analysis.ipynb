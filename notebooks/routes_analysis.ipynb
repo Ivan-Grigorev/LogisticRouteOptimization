{
 "cells": [
  {
   "cell_type": "markdown",
   "id": "a87f694c-b4eb-401a-9b09-144104d84b3d",
   "metadata": {},
   "source": [
    "<h1>Logistic Route Optimization - Illinois Idition</h1>"
   ]
  },
  {
   "cell_type": "markdown",
   "id": "cddddb05-c34a-4b88-8417-252165f77ab9",
   "metadata": {},
   "source": [
    "<h2>Project Scope</h2>\n",
    "This notebook performs intercity delivery route optimization across key cities in the state of Illinois, with a central logistics hub in Chicago. It uses OpenStreetMap road network data to build a realistic driving graph and applies advanced algorithms to compute optimal delivery routes."
   ]
  },
  {
   "cell_type": "markdown",
   "id": "8e596b5e-eeb2-4f2f-ba6f-e5fd70d36550",
   "metadata": {},
   "source": [
    "<h3>Goals</h3>\n",
    "- Map delivery cities to the road network<br>\n",
    "- Calculate travel distances between cities<br>\n",
    "- Solve for the most efficient route using Google's OR-Tools<br>\n",
    "- Visualize results using interactive maps<br>"
   ]
  },
  {
   "cell_type": "markdown",
   "id": "0b95d3b5-f0f9-49e4-8420-85b83f123335",
   "metadata": {},
   "source": [
    "Load Illinois cities dataset from CSV. If not found, generate it using the script."
   ]
  },
  {
   "cell_type": "code",
   "execution_count": 5,
   "id": "bcc333f7-82c3-45d5-ae2b-fc4bec26bebe",
   "metadata": {},
   "outputs": [],
   "source": [
    "import os\n",
    "import sys\n",
    "\n",
    "# Add 'src' to sys.path if it's not already there\n",
    "src_path = os.path.abspath('../src/')\n",
    "if src_path not in sys.path:\n",
    "    sys.path.append(src_path)"
   ]
  },
  {
   "cell_type": "code",
   "execution_count": 6,
   "id": "c71663e6-9af3-48dd-8ff0-669299e49ef0",
   "metadata": {},
   "outputs": [
    {
     "data": {
      "text/html": [
       "<div>\n",
       "<style scoped>\n",
       "    .dataframe tbody tr th:only-of-type {\n",
       "        vertical-align: middle;\n",
       "    }\n",
       "\n",
       "    .dataframe tbody tr th {\n",
       "        vertical-align: top;\n",
       "    }\n",
       "\n",
       "    .dataframe thead th {\n",
       "        text-align: right;\n",
       "    }\n",
       "</style>\n",
       "<table border=\"1\" class=\"dataframe\">\n",
       "  <thead>\n",
       "    <tr style=\"text-align: right;\">\n",
       "      <th></th>\n",
       "      <th>city</th>\n",
       "      <th>lat</th>\n",
       "      <th>lon</th>\n",
       "    </tr>\n",
       "  </thead>\n",
       "  <tbody>\n",
       "    <tr>\n",
       "      <th>0</th>\n",
       "      <td>Chicago</td>\n",
       "      <td>41.8781</td>\n",
       "      <td>-87.6298</td>\n",
       "    </tr>\n",
       "    <tr>\n",
       "      <th>1</th>\n",
       "      <td>Aurora</td>\n",
       "      <td>41.7606</td>\n",
       "      <td>-88.3201</td>\n",
       "    </tr>\n",
       "    <tr>\n",
       "      <th>2</th>\n",
       "      <td>Rockford</td>\n",
       "      <td>42.2711</td>\n",
       "      <td>-89.0937</td>\n",
       "    </tr>\n",
       "    <tr>\n",
       "      <th>3</th>\n",
       "      <td>Naperville</td>\n",
       "      <td>41.7508</td>\n",
       "      <td>-88.1535</td>\n",
       "    </tr>\n",
       "    <tr>\n",
       "      <th>4</th>\n",
       "      <td>Joliet</td>\n",
       "      <td>41.5250</td>\n",
       "      <td>-88.0817</td>\n",
       "    </tr>\n",
       "    <tr>\n",
       "      <th>5</th>\n",
       "      <td>Springfield</td>\n",
       "      <td>39.7817</td>\n",
       "      <td>-89.6501</td>\n",
       "    </tr>\n",
       "    <tr>\n",
       "      <th>6</th>\n",
       "      <td>Peoria</td>\n",
       "      <td>40.6936</td>\n",
       "      <td>-89.5889</td>\n",
       "    </tr>\n",
       "    <tr>\n",
       "      <th>7</th>\n",
       "      <td>Champaign</td>\n",
       "      <td>40.1164</td>\n",
       "      <td>-88.2434</td>\n",
       "    </tr>\n",
       "  </tbody>\n",
       "</table>\n",
       "</div>"
      ],
      "text/plain": [
       "          city      lat      lon\n",
       "0      Chicago  41.8781 -87.6298\n",
       "1       Aurora  41.7606 -88.3201\n",
       "2     Rockford  42.2711 -89.0937\n",
       "3   Naperville  41.7508 -88.1535\n",
       "4       Joliet  41.5250 -88.0817\n",
       "5  Springfield  39.7817 -89.6501\n",
       "6       Peoria  40.6936 -89.5889\n",
       "7    Champaign  40.1164 -88.2434"
      ]
     },
     "execution_count": 6,
     "metadata": {},
     "output_type": "execute_result"
    }
   ],
   "source": [
    "import pandas as pd\n",
    "\n",
    "csv_path = '../data/illinois_cities.csv'\n",
    "\n",
    "try:\n",
    "    df_cities = pd.read_csv(csv_path)\n",
    "except FileNotFoundError:\n",
    "    # Import the function\n",
    "    from cities_dataset_generator import generate_illinois_cities_dataset\n",
    "\n",
    "    # Generate the dataset\n",
    "    generate_illinois_cities_dataset(csv_path)\n",
    "\n",
    "    # Read it after creation\n",
    "    df_cities = pd.read_csv(csv_path)\n",
    "\n",
    "df_cities"
   ]
  },
  {
   "cell_type": "markdown",
   "id": "6baffa66-dd0f-4545-a060-51ca3b59ba7b",
   "metadata": {},
   "source": [
    "Download Illinois driving network with `osmnx`. If not found, generate it using the script."
   ]
  },
  {
   "cell_type": "code",
   "execution_count": 8,
   "id": "18a012ed-863b-42bd-bb51-25ff20abba26",
   "metadata": {},
   "outputs": [],
   "source": [
    "import osmnx as ox\n",
    "\n",
    "graph_path = '../data/illinois_graph.graphml'\n",
    "\n",
    "try:\n",
    "    G = ox.load_graphml(graph_path)\n",
    "except FileNotFoundError:\n",
    "    # Import the function\n",
    "    from graphml_generator import generate_graphml\n",
    "\n",
    "    # Genrate the graph\n",
    "    generate_graphml(df_path='../data/illinois_cities.csv', file_path=graph_path)\n",
    "\n",
    "    # Load after creation\n",
    "    G = ox.load_graphml(graph_path)"
   ]
  },
  {
   "cell_type": "markdown",
   "id": "0e26f723-b386-42a8-b5a2-f94306c9889f",
   "metadata": {},
   "source": [
    "Match cities to nearest road nodes"
   ]
  },
  {
   "cell_type": "code",
   "execution_count": 10,
   "id": "b928200e-f904-4d1b-9d4a-3e91cfee2c35",
   "metadata": {},
   "outputs": [
    {
     "data": {
      "text/html": [
       "<div>\n",
       "<style scoped>\n",
       "    .dataframe tbody tr th:only-of-type {\n",
       "        vertical-align: middle;\n",
       "    }\n",
       "\n",
       "    .dataframe tbody tr th {\n",
       "        vertical-align: top;\n",
       "    }\n",
       "\n",
       "    .dataframe thead th {\n",
       "        text-align: right;\n",
       "    }\n",
       "</style>\n",
       "<table border=\"1\" class=\"dataframe\">\n",
       "  <thead>\n",
       "    <tr style=\"text-align: right;\">\n",
       "      <th></th>\n",
       "      <th>city</th>\n",
       "      <th>lat</th>\n",
       "      <th>lon</th>\n",
       "      <th>node_id</th>\n",
       "    </tr>\n",
       "  </thead>\n",
       "  <tbody>\n",
       "    <tr>\n",
       "      <th>0</th>\n",
       "      <td>Chicago</td>\n",
       "      <td>41.8781</td>\n",
       "      <td>-87.6298</td>\n",
       "      <td>261154311</td>\n",
       "    </tr>\n",
       "    <tr>\n",
       "      <th>1</th>\n",
       "      <td>Aurora</td>\n",
       "      <td>41.7606</td>\n",
       "      <td>-88.3201</td>\n",
       "      <td>235209482</td>\n",
       "    </tr>\n",
       "    <tr>\n",
       "      <th>2</th>\n",
       "      <td>Rockford</td>\n",
       "      <td>42.2711</td>\n",
       "      <td>-89.0937</td>\n",
       "      <td>237540096</td>\n",
       "    </tr>\n",
       "    <tr>\n",
       "      <th>3</th>\n",
       "      <td>Naperville</td>\n",
       "      <td>41.7508</td>\n",
       "      <td>-88.1535</td>\n",
       "      <td>237638509</td>\n",
       "    </tr>\n",
       "    <tr>\n",
       "      <th>4</th>\n",
       "      <td>Joliet</td>\n",
       "      <td>41.5250</td>\n",
       "      <td>-88.0817</td>\n",
       "      <td>237451309</td>\n",
       "    </tr>\n",
       "    <tr>\n",
       "      <th>5</th>\n",
       "      <td>Springfield</td>\n",
       "      <td>39.7817</td>\n",
       "      <td>-89.6501</td>\n",
       "      <td>1374889316</td>\n",
       "    </tr>\n",
       "    <tr>\n",
       "      <th>6</th>\n",
       "      <td>Peoria</td>\n",
       "      <td>40.6936</td>\n",
       "      <td>-89.5889</td>\n",
       "      <td>236827183</td>\n",
       "    </tr>\n",
       "    <tr>\n",
       "      <th>7</th>\n",
       "      <td>Champaign</td>\n",
       "      <td>40.1164</td>\n",
       "      <td>-88.2434</td>\n",
       "      <td>38035941</td>\n",
       "    </tr>\n",
       "  </tbody>\n",
       "</table>\n",
       "</div>"
      ],
      "text/plain": [
       "          city      lat      lon     node_id\n",
       "0      Chicago  41.8781 -87.6298   261154311\n",
       "1       Aurora  41.7606 -88.3201   235209482\n",
       "2     Rockford  42.2711 -89.0937   237540096\n",
       "3   Naperville  41.7508 -88.1535   237638509\n",
       "4       Joliet  41.5250 -88.0817   237451309\n",
       "5  Springfield  39.7817 -89.6501  1374889316\n",
       "6       Peoria  40.6936 -89.5889   236827183\n",
       "7    Champaign  40.1164 -88.2434    38035941"
      ]
     },
     "execution_count": 10,
     "metadata": {},
     "output_type": "execute_result"
    }
   ],
   "source": [
    "# Extract lat/lon from the dataframe\n",
    "city_coords = list(zip(df_cities['lat'], df_cities['lon']))\n",
    "\n",
    "# Get the nearest graph node for each city\n",
    "city_node_ids = []\n",
    "for lat, lon in city_coords:\n",
    "    node = ox.distance.nearest_nodes(G, X=lon, Y=lat)\n",
    "    city_node_ids.append(node)\n",
    "\n",
    "df_cities['node_id'] = city_node_ids\n",
    "df_cities"
   ]
  }
 ],
 "metadata": {
  "kernelspec": {
   "display_name": "Python [conda env:base] *",
   "language": "python",
   "name": "conda-base-py"
  },
  "language_info": {
   "codemirror_mode": {
    "name": "ipython",
    "version": 3
   },
   "file_extension": ".py",
   "mimetype": "text/x-python",
   "name": "python",
   "nbconvert_exporter": "python",
   "pygments_lexer": "ipython3",
   "version": "3.12.2"
  }
 },
 "nbformat": 4,
 "nbformat_minor": 5
}
